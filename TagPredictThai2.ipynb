{
 "cells": [
  {
   "cell_type": "markdown",
   "metadata": {},
   "source": [
    "# From Prev.\n",
    "#Rearranged code\n",
    "#Used larger training set\n",
    "#Match Similar words manually (due to limited size of categories [hopefully :P])"
   ]
  },
  {
   "cell_type": "code",
   "execution_count": 46,
   "metadata": {},
   "outputs": [],
   "source": [
    "import pandas as pd\n",
    "from urllib.parse import unquote\n",
    "\n",
    "df = pd.read_json('data-1.json',encoding='utf-8')\n",
    "#df.drop(['date','body','author','url'],axis=1,inplace=True) #for test_2.json\n",
    "#df.drop(['id','news_content','date','url'],axis=1,inplace=True)"
   ]
  },
  {
   "cell_type": "code",
   "execution_count": 47,
   "metadata": {},
   "outputs": [],
   "source": [
    "CAT= {\n",
    "    #category: change to this\n",
    "    'ข่าวบันเทิง':\"entertainment\",\n",
    "    'regional':'local',\n",
    "    'sport':'sports',\n",
    "    'ข่าวกีฬา':'sports',\n",
    "    'ข่าวอาชญากรรม':'crime',\n",
    "    'khrongkhaidaasapparod':'ข่าวโครงข่ายตาสับปะรด',\n",
    "    'around-the-world-news':'foreign',\n",
    "    'abroad':'foreign',\n",
    "    'ข่าวต่างประเทศ':'foreign',\n",
    "    'ข่าวไลฟ์สไตล์':'lifestyle',\n",
    "    'analysis-today-politics':'politics',\n",
    "    'politic':'politics',\n",
    "    'ข่าวเศรษฐกิจ':'economics',\n",
    "    'economy':'economics',\n",
    "    'economic':'economics',\n",
    "    'uncategorized':'others',\n",
    "    'auto':'car-vehicle',\n",
    "    'thai-soccer':'thaifootball',\n",
    "    'ข่าวพระราชสำนัก':'royalnews',\n",
    "    'it':'tech'\n",
    "}"
   ]
  },
  {
   "cell_type": "code",
   "execution_count": 48,
   "metadata": {},
   "outputs": [],
   "source": [
    "def conv_cate(category):\n",
    "    result = CAT.get(category,-1)\n",
    "    if result!=-1:\n",
    "        return result\n",
    "    else :\n",
    "        #in case want to update dictionary\n",
    "        #CAT[category] = category\n",
    "        return category"
   ]
  },
  {
   "cell_type": "code",
   "execution_count": 49,
   "metadata": {},
   "outputs": [],
   "source": [
    "df['category'] = df['category'].apply(unquote).apply(conv_cate)"
   ]
  },
  {
   "cell_type": "code",
   "execution_count": 50,
   "metadata": {
    "scrolled": true
   },
   "outputs": [
    {
     "data": {
      "text/plain": [
       "53"
      ]
     },
     "execution_count": 50,
     "metadata": {},
     "output_type": "execute_result"
    }
   ],
   "source": [
    "#tags cleaning\n",
    "#df[df['category']=='1293427']\n",
    "#df.drop([292],inplace=True)\n",
    "df['category'].unique()\n",
    "len(df['category'].unique())"
   ]
  },
  {
   "cell_type": "code",
   "execution_count": 51,
   "metadata": {
    "scrolled": true
   },
   "outputs": [
    {
     "data": {
      "text/plain": [
       "[('car-vehicle', 5),\n",
       " ('stock-monitor', 5),\n",
       " ('thaifootball', 6),\n",
       " ('covid-19', 7),\n",
       " ('index.php', 7),\n",
       " ('ข่าวโครงข่ายตาสับปะรด', 9),\n",
       " ('life', 10),\n",
       " ('women', 14),\n",
       " ('ข่าวในประเทศ', 14),\n",
       " ('bangkok', 15),\n",
       " ('bbc-thai', 18),\n",
       " ('trcheerthai', 18),\n",
       " ('special-stories', 20),\n",
       " ('society', 21),\n",
       " ('lifestyle', 22),\n",
       " ('tech', 22),\n",
       " ('breaking-news', 23),\n",
       " ('ข่าวด่วน', 23),\n",
       " ('pr-news', 28),\n",
       " ('news', 29),\n",
       " ('education', 30),\n",
       " ('others', 31),\n",
       " ('around-thailand', 32),\n",
       " ('business', 34),\n",
       " ('eurofootball', 78),\n",
       " ('crime', 80),\n",
       " ('economics', 96),\n",
       " ('article', 98),\n",
       " ('entertainment', 129),\n",
       " ('sports', 257),\n",
       " ('politics', 261),\n",
       " ('foreign', 338),\n",
       " ('local', 357)]"
      ]
     },
     "execution_count": 51,
     "metadata": {},
     "output_type": "execute_result"
    }
   ],
   "source": [
    "import numpy as np\n",
    "category = np.array(df['category'])\n",
    "tags, freq = np.unique(category,return_counts=True)\n",
    "freqList = list(zip(tags,freq))\n",
    "freqList.sort(key=lambda elem:elem[1]) #sort by frequency\n",
    "freqList[20:]"
   ]
  },
  {
   "cell_type": "code",
   "execution_count": 52,
   "metadata": {},
   "outputs": [
    {
     "data": {
      "text/html": [
       "<div>\n",
       "<style scoped>\n",
       "    .dataframe tbody tr th:only-of-type {\n",
       "        vertical-align: middle;\n",
       "    }\n",
       "\n",
       "    .dataframe tbody tr th {\n",
       "        vertical-align: top;\n",
       "    }\n",
       "\n",
       "    .dataframe thead th {\n",
       "        text-align: right;\n",
       "    }\n",
       "</style>\n",
       "<table border=\"1\" class=\"dataframe\">\n",
       "  <thead>\n",
       "    <tr style=\"text-align: right;\">\n",
       "      <th></th>\n",
       "      <th>id</th>\n",
       "      <th>news_topic</th>\n",
       "      <th>news_content</th>\n",
       "      <th>date</th>\n",
       "      <th>author</th>\n",
       "      <th>url</th>\n",
       "      <th>category</th>\n",
       "    </tr>\n",
       "  </thead>\n",
       "  <tbody>\n",
       "    <tr>\n",
       "      <th>0</th>\n",
       "      <td>1</td>\n",
       "      <td>\"นกเอี้ยง จันทิมา\"โดนหนุ่มจับก้น เจ้าตัวตบสวนถ...</td>\n",
       "      <td>นกเอี้ยง จันทิมา นักร้องสาว โพสต์เฟสบุ๊กส่วนตั...</td>\n",
       "      <td>2019-06-29 18:30:44</td>\n",
       "      <td>ch3</td>\n",
       "      <td>http://news.ch3thailand.com/entertainment/98347</td>\n",
       "      <td>entertainment</td>\n",
       "    </tr>\n",
       "  </tbody>\n",
       "</table>\n",
       "</div>"
      ],
      "text/plain": [
       "   id                                         news_topic  \\\n",
       "0   1  \"นกเอี้ยง จันทิมา\"โดนหนุ่มจับก้น เจ้าตัวตบสวนถ...   \n",
       "\n",
       "                                        news_content                 date  \\\n",
       "0  นกเอี้ยง จันทิมา นักร้องสาว โพสต์เฟสบุ๊กส่วนตั...  2019-06-29 18:30:44   \n",
       "\n",
       "  author                                              url       category  \n",
       "0    ch3  http://news.ch3thailand.com/entertainment/98347  entertainment  "
      ]
     },
     "execution_count": 52,
     "metadata": {},
     "output_type": "execute_result"
    }
   ],
   "source": [
    "df.head(1)"
   ]
  },
  {
   "cell_type": "code",
   "execution_count": 53,
   "metadata": {},
   "outputs": [],
   "source": [
    "\n",
    "X = np.array(df['news_topic'])\n",
    "y = np.array(df['category'])"
   ]
  },
  {
   "cell_type": "code",
   "execution_count": 54,
   "metadata": {},
   "outputs": [],
   "source": [
    "#y cleaning\n"
   ]
  },
  {
   "cell_type": "code",
   "execution_count": 55,
   "metadata": {},
   "outputs": [],
   "source": [
    "import re\n",
    "#prepare each sentence\n",
    "def text_prepare(text):\n",
    "    text = re.sub(\"[/(){}\\[\\]\\|@,;\\n\\t:\\'\\- ]\", '', text)\n",
    "    text = re.sub(\"[/\\xa0]\", '', text)\n",
    "    return text"
   ]
  },
  {
   "cell_type": "code",
   "execution_count": 56,
   "metadata": {},
   "outputs": [],
   "source": [
    "#execute prepare\n",
    "X = np.array([text_prepare(title) for title in X])"
   ]
  },
  {
   "cell_type": "code",
   "execution_count": 57,
   "metadata": {},
   "outputs": [],
   "source": [
    "from sklearn.model_selection import train_test_split\n",
    "X_train, X_test, y_train, y_test = train_test_split(X, y, test_size = 0.25, random_state = 0)"
   ]
  },
  {
   "cell_type": "code",
   "execution_count": 58,
   "metadata": {},
   "outputs": [
    {
     "data": {
      "text/plain": [
       "numpy.ndarray"
      ]
     },
     "execution_count": 58,
     "metadata": {},
     "output_type": "execute_result"
    }
   ],
   "source": [
    "type(X_train)"
   ]
  },
  {
   "cell_type": "code",
   "execution_count": 59,
   "metadata": {
    "scrolled": true
   },
   "outputs": [
    {
     "data": {
      "text/plain": [
       "545"
      ]
     },
     "execution_count": 59,
     "metadata": {},
     "output_type": "execute_result"
    }
   ],
   "source": [
    "len(X_test)"
   ]
  },
  {
   "cell_type": "code",
   "execution_count": null,
   "metadata": {},
   "outputs": [],
   "source": []
  },
  {
   "cell_type": "code",
   "execution_count": 60,
   "metadata": {},
   "outputs": [
    {
     "data": {
      "text/plain": [
       "[('advertorial', 4),\n",
       " ('agriculture', 5),\n",
       " ('around-thailand', 21),\n",
       " ('article', 79),\n",
       " ('bangkok', 12),\n",
       " ('bbc-thai', 15),\n",
       " ('beauty', 2),\n",
       " ('boxing-mma', 1),\n",
       " ('breaking-news', 12),\n",
       " ('business', 25),\n",
       " ('car-vehicle', 3),\n",
       " ('covid-19', 6),\n",
       " ('crime', 65),\n",
       " ('drama', 1),\n",
       " ('economics', 73),\n",
       " ('education', 22),\n",
       " ('entertainment', 94),\n",
       " ('eurofootball', 59),\n",
       " ('food', 2),\n",
       " ('foreign', 250),\n",
       " ('hot-topics', 1),\n",
       " ('house-condo', 2),\n",
       " ('in-the-news', 1),\n",
       " ('index.php', 6),\n",
       " ('life', 9),\n",
       " ('lifestyle', 15),\n",
       " ('live-from-the-scene', 1),\n",
       " ('local', 269),\n",
       " ('monitor-news', 2),\n",
       " ('news', 25),\n",
       " ('online-social', 2),\n",
       " ('others', 22),\n",
       " ('politics', 193),\n",
       " ('pr-news', 21),\n",
       " ('society', 14),\n",
       " ('special-stories', 15),\n",
       " ('sports', 196),\n",
       " ('stock-monitor', 4),\n",
       " ('tech', 18),\n",
       " ('thaifootball', 4),\n",
       " ('travel', 1),\n",
       " ('trcheerthai', 11),\n",
       " ('volleyball', 2),\n",
       " ('women', 11),\n",
       " ('worldcup', 2),\n",
       " ('ข่าวด่วน', 21),\n",
       " ('ข่าวโครงข่ายตาสับปะรด', 4),\n",
       " ('ข่าวในประเทศ', 9),\n",
       " ('ดวง', 1),\n",
       " ('หวย', 2)]"
      ]
     },
     "execution_count": 60,
     "metadata": {},
     "output_type": "execute_result"
    }
   ],
   "source": [
    "#not well distributed\n",
    "tags, freq = np.unique(y_train,return_counts=True)\n",
    "list(zip(tags,freq))"
   ]
  },
  {
   "cell_type": "markdown",
   "metadata": {},
   "source": [
    "### Bag of words"
   ]
  },
  {
   "cell_type": "code",
   "execution_count": 61,
   "metadata": {},
   "outputs": [],
   "source": [
    "from pythainlp.tokenize import word_tokenize"
   ]
  },
  {
   "cell_type": "code",
   "execution_count": 62,
   "metadata": {},
   "outputs": [],
   "source": [
    "\n",
    "#tokenize function\n",
    "def Thaitokenize(text):\n",
    "    \"\"\"\n",
    "    turn a Thai sentence into Thai words with meaning\n",
    "    \"\"\"\n",
    "    text = ''.join(text.split('\"')) ##handled in regex??\n",
    "    text = word_tokenize(text , engine = 'pyicu')\n",
    "    return text"
   ]
  },
  {
   "cell_type": "code",
   "execution_count": 63,
   "metadata": {},
   "outputs": [],
   "source": [
    "#try mapping function\n",
    "#Error\n",
    "#list(map(Thaitokenize,X_train))"
   ]
  },
  {
   "cell_type": "code",
   "execution_count": 64,
   "metadata": {},
   "outputs": [
    {
     "data": {
      "text/plain": [
       "['แสน',\n",
       " 'สิริ',\n",
       " 'สร้าง',\n",
       " 'UN',\n",
       " ' ',\n",
       " 'Global',\n",
       " ' ',\n",
       " 'Standards',\n",
       " ' ',\n",
       " 'of',\n",
       " ' ',\n",
       " 'Conduct',\n",
       " ' ',\n",
       " 'for',\n",
       " ' ',\n",
       " 'Business',\n",
       " '\\xa0']"
      ]
     },
     "execution_count": 64,
     "metadata": {},
     "output_type": "execute_result"
    }
   ],
   "source": [
    "Thaitokenize('แสนสิริสร้างUN Global Standards of Conduct for Business\\xa0')"
   ]
  },
  {
   "cell_type": "markdown",
   "metadata": {},
   "source": [
    "### just a test for fun###\n",
    "%timeit word_tokenize('แสนสิริสร้างมาตรฐานใหม่ของการยอมรับความเท่าเทียม' , engine = 'pyicu')"
   ]
  },
  {
   "cell_type": "markdown",
   "metadata": {},
   "source": [
    "### just a test for fun###\n",
    "%timeit word_tokenize('แสนสิริสร้างมาตรฐานใหม่ของการยอมรับความเท่าเทียม' , engine = 'newmm')"
   ]
  },
  {
   "cell_type": "code",
   "execution_count": 65,
   "metadata": {},
   "outputs": [],
   "source": [
    "#words to account in the bag\n",
    "words_counts = {}\n",
    "\n",
    "for i in X_train: #each i is a topic sentence\n",
    "    wordlist = Thaitokenize(i)\n",
    "    for j in wordlist:\n",
    "        words_counts[j] = words_counts.get(j,0) + 1\n",
    "#words_counts = 238\n",
    "\n",
    "WORDS_TO_INDEX = dict(zip(words_counts.keys(),list(x for x in range(len(words_counts)))))"
   ]
  },
  {
   "cell_type": "code",
   "execution_count": 66,
   "metadata": {},
   "outputs": [
    {
     "data": {
      "text/plain": [
       "5188"
      ]
     },
     "execution_count": 66,
     "metadata": {},
     "output_type": "execute_result"
    }
   ],
   "source": [
    "len(words_counts)"
   ]
  },
  {
   "cell_type": "code",
   "execution_count": 67,
   "metadata": {},
   "outputs": [],
   "source": [
    "#create a bag of words for a sentence\n",
    "def my_bag_of_words(text, words_to_index, dict_size):\n",
    "    \"\"\"\n",
    "        text: a sentence\n",
    "        words_to_index: words to count in the bag \n",
    "        e.g.\n",
    "        words_to_index = {'hi': 0, 'you': 1, 'me': 2, 'are': 3}\n",
    "        \n",
    "        dict_size: size of the dictionary\n",
    "        \n",
    "        return a vector which is a bag-of-words representation of 'text'\n",
    "    \"\"\"\n",
    "    result_vector = np.zeros(dict_size)\n",
    "    \n",
    "    #tokenize Thai words\n",
    "    words = Thaitokenize(text)\n",
    "    \n",
    "    for i in words:\n",
    "      if(words_to_index.get(i,-1)!=-1) :\n",
    "        result_vector[words_to_index[i]]=+1\n",
    "    return result_vector"
   ]
  },
  {
   "cell_type": "code",
   "execution_count": 68,
   "metadata": {},
   "outputs": [],
   "source": [
    "X_train_my_bag = np.array([my_bag_of_words(text, WORDS_TO_INDEX, len(words_counts)) for text in X_train])"
   ]
  },
  {
   "cell_type": "code",
   "execution_count": 69,
   "metadata": {},
   "outputs": [
    {
     "data": {
      "text/plain": [
       "dict_keys"
      ]
     },
     "execution_count": 69,
     "metadata": {},
     "output_type": "execute_result"
    }
   ],
   "source": [
    "# [word for word in WORDS_TO_INDEX]\n",
    "type(WORDS_TO_INDEX.keys())"
   ]
  },
  {
   "cell_type": "code",
   "execution_count": 70,
   "metadata": {},
   "outputs": [],
   "source": [
    "#for illustration & checking\n",
    "myBagX = pd.DataFrame(X_train_my_bag,columns = WORDS_TO_INDEX.keys())\n",
    "pd.set_option('display.max_columns', None)\n",
    "pd.set_option('display.width', None)\n",
    "#myBagX"
   ]
  },
  {
   "cell_type": "code",
   "execution_count": 71,
   "metadata": {},
   "outputs": [
    {
     "data": {
      "text/plain": [
       "array(['พระสอนภาษาอังกฤษ', 'เฮรัวๆใหม่สุคนธวาประกาศข่าวดีท้องแล้วจ้า',\n",
       "       'สรุป10ข่าวเด่นรอบวันประจำวันที่17ก.ย.62เวลา06.0018.00น.', ...,\n",
       "       'แล้งวิกฤติหนักฉุดเศรษฐกิจเสียหาย1.9หมื่นล้านบาท',\n",
       "       'ตำรวจสภ.บางใหญ่ยึดยาไอซ์หนัก15กิโลวางทิ้งริมถนนกาญจนาภิเษก',\n",
       "       'ลุยปฏิบัติการกระแทกน้ำดันน้ำเค็มหนุนสูง1314ม.ค.'], dtype='<U214')"
      ]
     },
     "execution_count": 71,
     "metadata": {},
     "output_type": "execute_result"
    }
   ],
   "source": [
    "X_train"
   ]
  },
  {
   "cell_type": "code",
   "execution_count": 72,
   "metadata": {},
   "outputs": [],
   "source": [
    "#turn y values to 1s,0s"
   ]
  },
  {
   "cell_type": "code",
   "execution_count": 73,
   "metadata": {},
   "outputs": [],
   "source": [
    "# from sklearn.preprocessing import MultiLabelBinarizer\n",
    "# this is for list of tags"
   ]
  },
  {
   "cell_type": "code",
   "execution_count": 74,
   "metadata": {},
   "outputs": [],
   "source": [
    "from sklearn import preprocessing\n",
    "lb = preprocessing.LabelBinarizer()\n",
    "#lb.fit_transform([1, 2, 6, 4, 2]) \n",
    "#fit & transform in one step\n",
    "#fit = figure out different classes and turn into necessary binary formats\n",
    "#transform = transform given data into binary formats"
   ]
  },
  {
   "cell_type": "code",
   "execution_count": 75,
   "metadata": {},
   "outputs": [],
   "source": [
    "y_train_lb = lb.fit_transform(y_train)\n"
   ]
  },
  {
   "cell_type": "code",
   "execution_count": 76,
   "metadata": {},
   "outputs": [
    {
     "data": {
      "text/plain": [
       "50"
      ]
     },
     "execution_count": 76,
     "metadata": {},
     "output_type": "execute_result"
    }
   ],
   "source": [
    "lb.classes_.size"
   ]
  },
  {
   "cell_type": "code",
   "execution_count": 77,
   "metadata": {},
   "outputs": [
    {
     "data": {
      "text/html": [
       "<div>\n",
       "<style scoped>\n",
       "    .dataframe tbody tr th:only-of-type {\n",
       "        vertical-align: middle;\n",
       "    }\n",
       "\n",
       "    .dataframe tbody tr th {\n",
       "        vertical-align: top;\n",
       "    }\n",
       "\n",
       "    .dataframe thead th {\n",
       "        text-align: right;\n",
       "    }\n",
       "</style>\n",
       "<table border=\"1\" class=\"dataframe\">\n",
       "  <thead>\n",
       "    <tr style=\"text-align: right;\">\n",
       "      <th></th>\n",
       "      <th>advertorial</th>\n",
       "      <th>agriculture</th>\n",
       "      <th>around-thailand</th>\n",
       "      <th>article</th>\n",
       "      <th>bangkok</th>\n",
       "      <th>bbc-thai</th>\n",
       "      <th>beauty</th>\n",
       "      <th>boxing-mma</th>\n",
       "      <th>breaking-news</th>\n",
       "      <th>business</th>\n",
       "      <th>car-vehicle</th>\n",
       "      <th>covid-19</th>\n",
       "      <th>crime</th>\n",
       "      <th>drama</th>\n",
       "      <th>economics</th>\n",
       "      <th>education</th>\n",
       "      <th>entertainment</th>\n",
       "      <th>eurofootball</th>\n",
       "      <th>food</th>\n",
       "      <th>foreign</th>\n",
       "      <th>hot-topics</th>\n",
       "      <th>house-condo</th>\n",
       "      <th>in-the-news</th>\n",
       "      <th>index.php</th>\n",
       "      <th>life</th>\n",
       "      <th>lifestyle</th>\n",
       "      <th>live-from-the-scene</th>\n",
       "      <th>local</th>\n",
       "      <th>monitor-news</th>\n",
       "      <th>news</th>\n",
       "      <th>online-social</th>\n",
       "      <th>others</th>\n",
       "      <th>politics</th>\n",
       "      <th>pr-news</th>\n",
       "      <th>society</th>\n",
       "      <th>special-stories</th>\n",
       "      <th>sports</th>\n",
       "      <th>stock-monitor</th>\n",
       "      <th>tech</th>\n",
       "      <th>thaifootball</th>\n",
       "      <th>travel</th>\n",
       "      <th>trcheerthai</th>\n",
       "      <th>volleyball</th>\n",
       "      <th>women</th>\n",
       "      <th>worldcup</th>\n",
       "      <th>ข่าวด่วน</th>\n",
       "      <th>ข่าวโครงข่ายตาสับปะรด</th>\n",
       "      <th>ข่าวในประเทศ</th>\n",
       "      <th>ดวง</th>\n",
       "      <th>หวย</th>\n",
       "    </tr>\n",
       "  </thead>\n",
       "  <tbody>\n",
       "    <tr>\n",
       "      <th>10</th>\n",
       "      <td>0</td>\n",
       "      <td>0</td>\n",
       "      <td>0</td>\n",
       "      <td>0</td>\n",
       "      <td>0</td>\n",
       "      <td>0</td>\n",
       "      <td>0</td>\n",
       "      <td>0</td>\n",
       "      <td>0</td>\n",
       "      <td>0</td>\n",
       "      <td>0</td>\n",
       "      <td>0</td>\n",
       "      <td>0</td>\n",
       "      <td>0</td>\n",
       "      <td>0</td>\n",
       "      <td>0</td>\n",
       "      <td>0</td>\n",
       "      <td>0</td>\n",
       "      <td>0</td>\n",
       "      <td>0</td>\n",
       "      <td>0</td>\n",
       "      <td>0</td>\n",
       "      <td>0</td>\n",
       "      <td>0</td>\n",
       "      <td>0</td>\n",
       "      <td>0</td>\n",
       "      <td>0</td>\n",
       "      <td>0</td>\n",
       "      <td>0</td>\n",
       "      <td>0</td>\n",
       "      <td>0</td>\n",
       "      <td>0</td>\n",
       "      <td>0</td>\n",
       "      <td>0</td>\n",
       "      <td>0</td>\n",
       "      <td>0</td>\n",
       "      <td>1</td>\n",
       "      <td>0</td>\n",
       "      <td>0</td>\n",
       "      <td>0</td>\n",
       "      <td>0</td>\n",
       "      <td>0</td>\n",
       "      <td>0</td>\n",
       "      <td>0</td>\n",
       "      <td>0</td>\n",
       "      <td>0</td>\n",
       "      <td>0</td>\n",
       "      <td>0</td>\n",
       "      <td>0</td>\n",
       "      <td>0</td>\n",
       "    </tr>\n",
       "    <tr>\n",
       "      <th>11</th>\n",
       "      <td>0</td>\n",
       "      <td>0</td>\n",
       "      <td>0</td>\n",
       "      <td>0</td>\n",
       "      <td>0</td>\n",
       "      <td>0</td>\n",
       "      <td>0</td>\n",
       "      <td>0</td>\n",
       "      <td>0</td>\n",
       "      <td>0</td>\n",
       "      <td>0</td>\n",
       "      <td>0</td>\n",
       "      <td>0</td>\n",
       "      <td>0</td>\n",
       "      <td>0</td>\n",
       "      <td>0</td>\n",
       "      <td>0</td>\n",
       "      <td>0</td>\n",
       "      <td>0</td>\n",
       "      <td>0</td>\n",
       "      <td>0</td>\n",
       "      <td>0</td>\n",
       "      <td>0</td>\n",
       "      <td>0</td>\n",
       "      <td>0</td>\n",
       "      <td>0</td>\n",
       "      <td>0</td>\n",
       "      <td>1</td>\n",
       "      <td>0</td>\n",
       "      <td>0</td>\n",
       "      <td>0</td>\n",
       "      <td>0</td>\n",
       "      <td>0</td>\n",
       "      <td>0</td>\n",
       "      <td>0</td>\n",
       "      <td>0</td>\n",
       "      <td>0</td>\n",
       "      <td>0</td>\n",
       "      <td>0</td>\n",
       "      <td>0</td>\n",
       "      <td>0</td>\n",
       "      <td>0</td>\n",
       "      <td>0</td>\n",
       "      <td>0</td>\n",
       "      <td>0</td>\n",
       "      <td>0</td>\n",
       "      <td>0</td>\n",
       "      <td>0</td>\n",
       "      <td>0</td>\n",
       "      <td>0</td>\n",
       "    </tr>\n",
       "    <tr>\n",
       "      <th>12</th>\n",
       "      <td>0</td>\n",
       "      <td>0</td>\n",
       "      <td>0</td>\n",
       "      <td>0</td>\n",
       "      <td>0</td>\n",
       "      <td>0</td>\n",
       "      <td>0</td>\n",
       "      <td>0</td>\n",
       "      <td>0</td>\n",
       "      <td>0</td>\n",
       "      <td>0</td>\n",
       "      <td>0</td>\n",
       "      <td>0</td>\n",
       "      <td>0</td>\n",
       "      <td>0</td>\n",
       "      <td>0</td>\n",
       "      <td>1</td>\n",
       "      <td>0</td>\n",
       "      <td>0</td>\n",
       "      <td>0</td>\n",
       "      <td>0</td>\n",
       "      <td>0</td>\n",
       "      <td>0</td>\n",
       "      <td>0</td>\n",
       "      <td>0</td>\n",
       "      <td>0</td>\n",
       "      <td>0</td>\n",
       "      <td>0</td>\n",
       "      <td>0</td>\n",
       "      <td>0</td>\n",
       "      <td>0</td>\n",
       "      <td>0</td>\n",
       "      <td>0</td>\n",
       "      <td>0</td>\n",
       "      <td>0</td>\n",
       "      <td>0</td>\n",
       "      <td>0</td>\n",
       "      <td>0</td>\n",
       "      <td>0</td>\n",
       "      <td>0</td>\n",
       "      <td>0</td>\n",
       "      <td>0</td>\n",
       "      <td>0</td>\n",
       "      <td>0</td>\n",
       "      <td>0</td>\n",
       "      <td>0</td>\n",
       "      <td>0</td>\n",
       "      <td>0</td>\n",
       "      <td>0</td>\n",
       "      <td>0</td>\n",
       "    </tr>\n",
       "    <tr>\n",
       "      <th>13</th>\n",
       "      <td>0</td>\n",
       "      <td>0</td>\n",
       "      <td>0</td>\n",
       "      <td>0</td>\n",
       "      <td>0</td>\n",
       "      <td>0</td>\n",
       "      <td>0</td>\n",
       "      <td>0</td>\n",
       "      <td>0</td>\n",
       "      <td>0</td>\n",
       "      <td>0</td>\n",
       "      <td>0</td>\n",
       "      <td>0</td>\n",
       "      <td>0</td>\n",
       "      <td>0</td>\n",
       "      <td>0</td>\n",
       "      <td>0</td>\n",
       "      <td>0</td>\n",
       "      <td>0</td>\n",
       "      <td>1</td>\n",
       "      <td>0</td>\n",
       "      <td>0</td>\n",
       "      <td>0</td>\n",
       "      <td>0</td>\n",
       "      <td>0</td>\n",
       "      <td>0</td>\n",
       "      <td>0</td>\n",
       "      <td>0</td>\n",
       "      <td>0</td>\n",
       "      <td>0</td>\n",
       "      <td>0</td>\n",
       "      <td>0</td>\n",
       "      <td>0</td>\n",
       "      <td>0</td>\n",
       "      <td>0</td>\n",
       "      <td>0</td>\n",
       "      <td>0</td>\n",
       "      <td>0</td>\n",
       "      <td>0</td>\n",
       "      <td>0</td>\n",
       "      <td>0</td>\n",
       "      <td>0</td>\n",
       "      <td>0</td>\n",
       "      <td>0</td>\n",
       "      <td>0</td>\n",
       "      <td>0</td>\n",
       "      <td>0</td>\n",
       "      <td>0</td>\n",
       "      <td>0</td>\n",
       "      <td>0</td>\n",
       "    </tr>\n",
       "    <tr>\n",
       "      <th>14</th>\n",
       "      <td>0</td>\n",
       "      <td>0</td>\n",
       "      <td>0</td>\n",
       "      <td>0</td>\n",
       "      <td>0</td>\n",
       "      <td>0</td>\n",
       "      <td>0</td>\n",
       "      <td>0</td>\n",
       "      <td>0</td>\n",
       "      <td>0</td>\n",
       "      <td>0</td>\n",
       "      <td>0</td>\n",
       "      <td>0</td>\n",
       "      <td>0</td>\n",
       "      <td>0</td>\n",
       "      <td>0</td>\n",
       "      <td>0</td>\n",
       "      <td>0</td>\n",
       "      <td>0</td>\n",
       "      <td>0</td>\n",
       "      <td>0</td>\n",
       "      <td>0</td>\n",
       "      <td>0</td>\n",
       "      <td>0</td>\n",
       "      <td>0</td>\n",
       "      <td>0</td>\n",
       "      <td>0</td>\n",
       "      <td>0</td>\n",
       "      <td>0</td>\n",
       "      <td>0</td>\n",
       "      <td>0</td>\n",
       "      <td>0</td>\n",
       "      <td>0</td>\n",
       "      <td>0</td>\n",
       "      <td>1</td>\n",
       "      <td>0</td>\n",
       "      <td>0</td>\n",
       "      <td>0</td>\n",
       "      <td>0</td>\n",
       "      <td>0</td>\n",
       "      <td>0</td>\n",
       "      <td>0</td>\n",
       "      <td>0</td>\n",
       "      <td>0</td>\n",
       "      <td>0</td>\n",
       "      <td>0</td>\n",
       "      <td>0</td>\n",
       "      <td>0</td>\n",
       "      <td>0</td>\n",
       "      <td>0</td>\n",
       "    </tr>\n",
       "    <tr>\n",
       "      <th>15</th>\n",
       "      <td>0</td>\n",
       "      <td>0</td>\n",
       "      <td>0</td>\n",
       "      <td>0</td>\n",
       "      <td>0</td>\n",
       "      <td>0</td>\n",
       "      <td>0</td>\n",
       "      <td>0</td>\n",
       "      <td>0</td>\n",
       "      <td>0</td>\n",
       "      <td>0</td>\n",
       "      <td>0</td>\n",
       "      <td>0</td>\n",
       "      <td>0</td>\n",
       "      <td>0</td>\n",
       "      <td>0</td>\n",
       "      <td>0</td>\n",
       "      <td>0</td>\n",
       "      <td>0</td>\n",
       "      <td>1</td>\n",
       "      <td>0</td>\n",
       "      <td>0</td>\n",
       "      <td>0</td>\n",
       "      <td>0</td>\n",
       "      <td>0</td>\n",
       "      <td>0</td>\n",
       "      <td>0</td>\n",
       "      <td>0</td>\n",
       "      <td>0</td>\n",
       "      <td>0</td>\n",
       "      <td>0</td>\n",
       "      <td>0</td>\n",
       "      <td>0</td>\n",
       "      <td>0</td>\n",
       "      <td>0</td>\n",
       "      <td>0</td>\n",
       "      <td>0</td>\n",
       "      <td>0</td>\n",
       "      <td>0</td>\n",
       "      <td>0</td>\n",
       "      <td>0</td>\n",
       "      <td>0</td>\n",
       "      <td>0</td>\n",
       "      <td>0</td>\n",
       "      <td>0</td>\n",
       "      <td>0</td>\n",
       "      <td>0</td>\n",
       "      <td>0</td>\n",
       "      <td>0</td>\n",
       "      <td>0</td>\n",
       "    </tr>\n",
       "    <tr>\n",
       "      <th>16</th>\n",
       "      <td>0</td>\n",
       "      <td>0</td>\n",
       "      <td>0</td>\n",
       "      <td>0</td>\n",
       "      <td>0</td>\n",
       "      <td>0</td>\n",
       "      <td>0</td>\n",
       "      <td>0</td>\n",
       "      <td>0</td>\n",
       "      <td>0</td>\n",
       "      <td>0</td>\n",
       "      <td>0</td>\n",
       "      <td>0</td>\n",
       "      <td>0</td>\n",
       "      <td>0</td>\n",
       "      <td>0</td>\n",
       "      <td>1</td>\n",
       "      <td>0</td>\n",
       "      <td>0</td>\n",
       "      <td>0</td>\n",
       "      <td>0</td>\n",
       "      <td>0</td>\n",
       "      <td>0</td>\n",
       "      <td>0</td>\n",
       "      <td>0</td>\n",
       "      <td>0</td>\n",
       "      <td>0</td>\n",
       "      <td>0</td>\n",
       "      <td>0</td>\n",
       "      <td>0</td>\n",
       "      <td>0</td>\n",
       "      <td>0</td>\n",
       "      <td>0</td>\n",
       "      <td>0</td>\n",
       "      <td>0</td>\n",
       "      <td>0</td>\n",
       "      <td>0</td>\n",
       "      <td>0</td>\n",
       "      <td>0</td>\n",
       "      <td>0</td>\n",
       "      <td>0</td>\n",
       "      <td>0</td>\n",
       "      <td>0</td>\n",
       "      <td>0</td>\n",
       "      <td>0</td>\n",
       "      <td>0</td>\n",
       "      <td>0</td>\n",
       "      <td>0</td>\n",
       "      <td>0</td>\n",
       "      <td>0</td>\n",
       "    </tr>\n",
       "    <tr>\n",
       "      <th>17</th>\n",
       "      <td>0</td>\n",
       "      <td>0</td>\n",
       "      <td>0</td>\n",
       "      <td>0</td>\n",
       "      <td>0</td>\n",
       "      <td>0</td>\n",
       "      <td>0</td>\n",
       "      <td>0</td>\n",
       "      <td>0</td>\n",
       "      <td>0</td>\n",
       "      <td>0</td>\n",
       "      <td>0</td>\n",
       "      <td>0</td>\n",
       "      <td>0</td>\n",
       "      <td>0</td>\n",
       "      <td>0</td>\n",
       "      <td>0</td>\n",
       "      <td>0</td>\n",
       "      <td>0</td>\n",
       "      <td>0</td>\n",
       "      <td>0</td>\n",
       "      <td>0</td>\n",
       "      <td>0</td>\n",
       "      <td>0</td>\n",
       "      <td>0</td>\n",
       "      <td>0</td>\n",
       "      <td>0</td>\n",
       "      <td>1</td>\n",
       "      <td>0</td>\n",
       "      <td>0</td>\n",
       "      <td>0</td>\n",
       "      <td>0</td>\n",
       "      <td>0</td>\n",
       "      <td>0</td>\n",
       "      <td>0</td>\n",
       "      <td>0</td>\n",
       "      <td>0</td>\n",
       "      <td>0</td>\n",
       "      <td>0</td>\n",
       "      <td>0</td>\n",
       "      <td>0</td>\n",
       "      <td>0</td>\n",
       "      <td>0</td>\n",
       "      <td>0</td>\n",
       "      <td>0</td>\n",
       "      <td>0</td>\n",
       "      <td>0</td>\n",
       "      <td>0</td>\n",
       "      <td>0</td>\n",
       "      <td>0</td>\n",
       "    </tr>\n",
       "    <tr>\n",
       "      <th>18</th>\n",
       "      <td>0</td>\n",
       "      <td>0</td>\n",
       "      <td>0</td>\n",
       "      <td>0</td>\n",
       "      <td>0</td>\n",
       "      <td>0</td>\n",
       "      <td>0</td>\n",
       "      <td>0</td>\n",
       "      <td>0</td>\n",
       "      <td>0</td>\n",
       "      <td>0</td>\n",
       "      <td>0</td>\n",
       "      <td>0</td>\n",
       "      <td>0</td>\n",
       "      <td>0</td>\n",
       "      <td>0</td>\n",
       "      <td>0</td>\n",
       "      <td>0</td>\n",
       "      <td>0</td>\n",
       "      <td>0</td>\n",
       "      <td>0</td>\n",
       "      <td>0</td>\n",
       "      <td>0</td>\n",
       "      <td>0</td>\n",
       "      <td>0</td>\n",
       "      <td>0</td>\n",
       "      <td>0</td>\n",
       "      <td>0</td>\n",
       "      <td>0</td>\n",
       "      <td>0</td>\n",
       "      <td>0</td>\n",
       "      <td>0</td>\n",
       "      <td>0</td>\n",
       "      <td>0</td>\n",
       "      <td>0</td>\n",
       "      <td>0</td>\n",
       "      <td>1</td>\n",
       "      <td>0</td>\n",
       "      <td>0</td>\n",
       "      <td>0</td>\n",
       "      <td>0</td>\n",
       "      <td>0</td>\n",
       "      <td>0</td>\n",
       "      <td>0</td>\n",
       "      <td>0</td>\n",
       "      <td>0</td>\n",
       "      <td>0</td>\n",
       "      <td>0</td>\n",
       "      <td>0</td>\n",
       "      <td>0</td>\n",
       "    </tr>\n",
       "    <tr>\n",
       "      <th>19</th>\n",
       "      <td>0</td>\n",
       "      <td>0</td>\n",
       "      <td>0</td>\n",
       "      <td>0</td>\n",
       "      <td>0</td>\n",
       "      <td>0</td>\n",
       "      <td>0</td>\n",
       "      <td>0</td>\n",
       "      <td>0</td>\n",
       "      <td>0</td>\n",
       "      <td>0</td>\n",
       "      <td>0</td>\n",
       "      <td>0</td>\n",
       "      <td>0</td>\n",
       "      <td>0</td>\n",
       "      <td>0</td>\n",
       "      <td>0</td>\n",
       "      <td>0</td>\n",
       "      <td>0</td>\n",
       "      <td>0</td>\n",
       "      <td>0</td>\n",
       "      <td>0</td>\n",
       "      <td>0</td>\n",
       "      <td>0</td>\n",
       "      <td>0</td>\n",
       "      <td>0</td>\n",
       "      <td>0</td>\n",
       "      <td>0</td>\n",
       "      <td>0</td>\n",
       "      <td>0</td>\n",
       "      <td>0</td>\n",
       "      <td>0</td>\n",
       "      <td>1</td>\n",
       "      <td>0</td>\n",
       "      <td>0</td>\n",
       "      <td>0</td>\n",
       "      <td>0</td>\n",
       "      <td>0</td>\n",
       "      <td>0</td>\n",
       "      <td>0</td>\n",
       "      <td>0</td>\n",
       "      <td>0</td>\n",
       "      <td>0</td>\n",
       "      <td>0</td>\n",
       "      <td>0</td>\n",
       "      <td>0</td>\n",
       "      <td>0</td>\n",
       "      <td>0</td>\n",
       "      <td>0</td>\n",
       "      <td>0</td>\n",
       "    </tr>\n",
       "  </tbody>\n",
       "</table>\n",
       "</div>"
      ],
      "text/plain": [
       "    advertorial  agriculture  around-thailand  article  bangkok  bbc-thai  \\\n",
       "10            0            0                0        0        0         0   \n",
       "11            0            0                0        0        0         0   \n",
       "12            0            0                0        0        0         0   \n",
       "13            0            0                0        0        0         0   \n",
       "14            0            0                0        0        0         0   \n",
       "15            0            0                0        0        0         0   \n",
       "16            0            0                0        0        0         0   \n",
       "17            0            0                0        0        0         0   \n",
       "18            0            0                0        0        0         0   \n",
       "19            0            0                0        0        0         0   \n",
       "\n",
       "    beauty  boxing-mma  breaking-news  business  car-vehicle  covid-19  crime  \\\n",
       "10       0           0              0         0            0         0      0   \n",
       "11       0           0              0         0            0         0      0   \n",
       "12       0           0              0         0            0         0      0   \n",
       "13       0           0              0         0            0         0      0   \n",
       "14       0           0              0         0            0         0      0   \n",
       "15       0           0              0         0            0         0      0   \n",
       "16       0           0              0         0            0         0      0   \n",
       "17       0           0              0         0            0         0      0   \n",
       "18       0           0              0         0            0         0      0   \n",
       "19       0           0              0         0            0         0      0   \n",
       "\n",
       "    drama  economics  education  entertainment  eurofootball  food  foreign  \\\n",
       "10      0          0          0              0             0     0        0   \n",
       "11      0          0          0              0             0     0        0   \n",
       "12      0          0          0              1             0     0        0   \n",
       "13      0          0          0              0             0     0        1   \n",
       "14      0          0          0              0             0     0        0   \n",
       "15      0          0          0              0             0     0        1   \n",
       "16      0          0          0              1             0     0        0   \n",
       "17      0          0          0              0             0     0        0   \n",
       "18      0          0          0              0             0     0        0   \n",
       "19      0          0          0              0             0     0        0   \n",
       "\n",
       "    hot-topics  house-condo  in-the-news  index.php  life  lifestyle  \\\n",
       "10           0            0            0          0     0          0   \n",
       "11           0            0            0          0     0          0   \n",
       "12           0            0            0          0     0          0   \n",
       "13           0            0            0          0     0          0   \n",
       "14           0            0            0          0     0          0   \n",
       "15           0            0            0          0     0          0   \n",
       "16           0            0            0          0     0          0   \n",
       "17           0            0            0          0     0          0   \n",
       "18           0            0            0          0     0          0   \n",
       "19           0            0            0          0     0          0   \n",
       "\n",
       "    live-from-the-scene  local  monitor-news  news  online-social  others  \\\n",
       "10                    0      0             0     0              0       0   \n",
       "11                    0      1             0     0              0       0   \n",
       "12                    0      0             0     0              0       0   \n",
       "13                    0      0             0     0              0       0   \n",
       "14                    0      0             0     0              0       0   \n",
       "15                    0      0             0     0              0       0   \n",
       "16                    0      0             0     0              0       0   \n",
       "17                    0      1             0     0              0       0   \n",
       "18                    0      0             0     0              0       0   \n",
       "19                    0      0             0     0              0       0   \n",
       "\n",
       "    politics  pr-news  society  special-stories  sports  stock-monitor  tech  \\\n",
       "10         0        0        0                0       1              0     0   \n",
       "11         0        0        0                0       0              0     0   \n",
       "12         0        0        0                0       0              0     0   \n",
       "13         0        0        0                0       0              0     0   \n",
       "14         0        0        1                0       0              0     0   \n",
       "15         0        0        0                0       0              0     0   \n",
       "16         0        0        0                0       0              0     0   \n",
       "17         0        0        0                0       0              0     0   \n",
       "18         0        0        0                0       1              0     0   \n",
       "19         1        0        0                0       0              0     0   \n",
       "\n",
       "    thaifootball  travel  trcheerthai  volleyball  women  worldcup  ข่าวด่วน  \\\n",
       "10             0       0            0           0      0         0         0   \n",
       "11             0       0            0           0      0         0         0   \n",
       "12             0       0            0           0      0         0         0   \n",
       "13             0       0            0           0      0         0         0   \n",
       "14             0       0            0           0      0         0         0   \n",
       "15             0       0            0           0      0         0         0   \n",
       "16             0       0            0           0      0         0         0   \n",
       "17             0       0            0           0      0         0         0   \n",
       "18             0       0            0           0      0         0         0   \n",
       "19             0       0            0           0      0         0         0   \n",
       "\n",
       "    ข่าวโครงข่ายตาสับปะรด  ข่าวในประเทศ  ดวง  หวย  \n",
       "10                      0             0    0    0  \n",
       "11                      0             0    0    0  \n",
       "12                      0             0    0    0  \n",
       "13                      0             0    0    0  \n",
       "14                      0             0    0    0  \n",
       "15                      0             0    0    0  \n",
       "16                      0             0    0    0  \n",
       "17                      0             0    0    0  \n",
       "18                      0             0    0    0  \n",
       "19                      0             0    0    0  "
      ]
     },
     "execution_count": 77,
     "metadata": {},
     "output_type": "execute_result"
    }
   ],
   "source": [
    "#for illustration & checking\n",
    "Y_LB = pd.DataFrame(y_train_lb,columns = lb.classes_)\n",
    "pd.set_option('display.max_columns', None)\n",
    "pd.set_option('display.width', None)\n",
    "Y_LB.iloc[10:20]\n",
    "#y_train.iloc[10:20]"
   ]
  },
  {
   "cell_type": "code",
   "execution_count": 78,
   "metadata": {},
   "outputs": [
    {
     "data": {
      "text/plain": [
       "(1635, 50)"
      ]
     },
     "execution_count": 78,
     "metadata": {},
     "output_type": "execute_result"
    }
   ],
   "source": [
    "y_train_lb.shape"
   ]
  },
  {
   "cell_type": "code",
   "execution_count": 79,
   "metadata": {},
   "outputs": [
    {
     "data": {
      "text/plain": [
       "array([2, 0, 1])"
      ]
     },
     "execution_count": 79,
     "metadata": {},
     "output_type": "execute_result"
    }
   ],
   "source": [
    "from sklearn.multiclass import OneVsRestClassifier\n",
    "from sklearn.svm import SVC\n",
    "#example\n",
    "X = np.array([\n",
    "     [10, 10],\n",
    "     [8, 10],\n",
    "     [-5, 5.5],\n",
    "     [-5.4, 5.5],\n",
    "     [-20, -20],\n",
    "     [-15, -20]])\n",
    "y = np.array([0, 0, 1, 1, 2, 2])\n",
    "clf = OneVsRestClassifier(SVC()).fit(X, y)\n",
    "clf.predict([[-19, -20], [9, 9], [-5, 5]])"
   ]
  },
  {
   "cell_type": "code",
   "execution_count": 80,
   "metadata": {},
   "outputs": [],
   "source": [
    "clf = OneVsRestClassifier(SVC()).fit(X_train_my_bag, y_train)"
   ]
  },
  {
   "cell_type": "code",
   "execution_count": 81,
   "metadata": {},
   "outputs": [
    {
     "data": {
      "text/plain": [
       "array(['lifestyle', 'entertainment', 'local', ..., 'economics', 'crime',\n",
       "       'bangkok'], dtype=object)"
      ]
     },
     "execution_count": 81,
     "metadata": {},
     "output_type": "execute_result"
    }
   ],
   "source": [
    "y_train"
   ]
  },
  {
   "cell_type": "code",
   "execution_count": 82,
   "metadata": {},
   "outputs": [
    {
     "name": "stdout",
     "output_type": "stream",
     "text": [
      "[['lifestyle' 'lifestyle']\n",
      " ['entertainment' 'entertainment']\n",
      " ['local' 'local']\n",
      " ...\n",
      " ['economics' 'economics']\n",
      " ['crime' 'crime']\n",
      " ['bangkok' 'bangkok']]\n"
     ]
    }
   ],
   "source": [
    "#check the predictions, models applied correctly? Yes\n",
    "y = clf.predict(X_train_my_bag)\n",
    "print(np.concatenate((y.reshape(len(y),1), y_train.reshape(len(y_train),1)),1))"
   ]
  },
  {
   "cell_type": "code",
   "execution_count": 83,
   "metadata": {},
   "outputs": [
    {
     "name": "stdout",
     "output_type": "stream",
     "text": [
      "[['economics' 'economics']\n",
      " ['foreign' 'crime']\n",
      " ['foreign' 'foreign']\n",
      " ...\n",
      " ['foreign' 'local']\n",
      " ['politics' 'politics']\n",
      " ['foreign' 'foreign']]\n"
     ]
    }
   ],
   "source": [
    "X_test = np.array([text_prepare(title) for title in X_test])\n",
    "X_test_my_bag = np.array([my_bag_of_words(text, WORDS_TO_INDEX, len(words_counts)) for text in X_test])\n",
    "y_pred = clf.predict(X_test_my_bag)\n",
    "y_test = np.array(y_test)\n",
    "print(np.concatenate((y_pred.reshape(len(y_pred),1), y_test.reshape(len(y_test),1)),1))\n",
    "#print(np.concatenate(y_pred.reshape(len(y_pred),1),y_test.reshape(len(y_test),1),1))"
   ]
  },
  {
   "cell_type": "code",
   "execution_count": 84,
   "metadata": {},
   "outputs": [
    {
     "name": "stdout",
     "output_type": "stream",
     "text": [
      "[[0 0 0 ... 0 0 0]\n",
      " [0 0 1 ... 0 0 0]\n",
      " [0 0 8 ... 0 0 0]\n",
      " ...\n",
      " [0 0 0 ... 0 0 0]\n",
      " [0 0 1 ... 0 0 0]\n",
      " [0 0 0 ... 0 0 0]]\n"
     ]
    },
    {
     "data": {
      "text/plain": [
       "0.4972477064220184"
      ]
     },
     "execution_count": 84,
     "metadata": {},
     "output_type": "execute_result"
    }
   ],
   "source": [
    "from sklearn.metrics import confusion_matrix, accuracy_score\n",
    "cm = confusion_matrix(y_test, y_pred)\n",
    "print(cm)\n",
    "accuracy_score(y_test, y_pred)"
   ]
  },
  {
   "cell_type": "code",
   "execution_count": 85,
   "metadata": {},
   "outputs": [
    {
     "data": {
      "text/plain": [
       "array(['politics'], dtype='<U21')"
      ]
     },
     "execution_count": 85,
     "metadata": {},
     "output_type": "execute_result"
    }
   ],
   "source": [
    "test = text_prepare('“อนุทิน” ขอ ผู้ร้อง เปิดชื่อ อักษรย่อ \\\"พ\\\" คนหักหัวคิวโรงแรม 40%')\n",
    "test = np.array([my_bag_of_words(test, WORDS_TO_INDEX, len(words_counts))])\n",
    "clf.predict(test)"
   ]
  },
  {
   "cell_type": "code",
   "execution_count": null,
   "metadata": {},
   "outputs": [],
   "source": []
  }
 ],
 "metadata": {
  "kernelspec": {
   "display_name": "Python 3",
   "language": "python",
   "name": "python3"
  },
  "language_info": {
   "codemirror_mode": {
    "name": "ipython",
    "version": 3
   },
   "file_extension": ".py",
   "mimetype": "text/x-python",
   "name": "python",
   "nbconvert_exporter": "python",
   "pygments_lexer": "ipython3",
   "version": "3.7.6"
  }
 },
 "nbformat": 4,
 "nbformat_minor": 4
}
